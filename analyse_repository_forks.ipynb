{
  "nbformat": 4,
  "nbformat_minor": 0,
  "metadata": {
    "colab": {
      "name": "analyse_repository_forks.ipynb",
      "version": "0.3.2",
      "provenance": []
    },
    "kernelspec": {
      "name": "python3",
      "display_name": "Python 3"
    }
  },
  "cells": [
    {
      "cell_type": "code",
      "metadata": {
        "id": "-X0BDm76Jidz",
        "colab_type": "code",
        "colab": {}
      },
      "source": [
        "!pip install -q github3.py"
      ],
      "execution_count": 0,
      "outputs": []
    },
    {
      "cell_type": "code",
      "metadata": {
        "id": "Xn0XyQPCI-Ep",
        "colab_type": "code",
        "colab": {}
      },
      "source": [
        "import github3\n",
        "\n",
        "def fork_statics(owner,repository,username,password,exclusions) :\n",
        "\n",
        "    github = github3.login(username,password)\n",
        "\n",
        "    base_repository = github.repository(owner,repository)\n",
        "    print('Repository : '+base_repository.full_name)\n",
        "\n",
        "    base_repository_commits=list(base_repository.commits())\n",
        "    \n",
        "    print('No. of Forks of '+base_repository.full_name+' : '+str(base_repository.forks_count))\n",
        "    \n",
        "    i=1\n",
        "    \n",
        "    for ariang_fork in base_repository.forks() :\n",
        "    \n",
        "        if ariang_fork.full_name in exclusions :\n",
        "            print('\\nExcluding Fork '+str(i)+' : '+ariang_fork.full_name)\n",
        "            continue\n",
        "                \n",
        "        flag = 0\n",
        "        \n",
        "        new_commit_count = 0\n",
        "        \n",
        "        try :\n",
        "            for ariang_fork_commit in ariang_fork.commits() :\n",
        "        \n",
        "                if ariang_fork_commit not in base_repository_commits :\n",
        "                    \n",
        "                    if flag == 0 :\n",
        "                        \n",
        "                        print('\\nFork '+str(i)+' : '+ariang_fork.full_name)\n",
        "                        \n",
        "                        print('URL : '+ariang_fork.html_url)\n",
        "                        flag = 1\n",
        "                        \n",
        "                    print('New Commit - '+ariang_fork_commit.message)\n",
        "                    new_commit_count = new_commit_count + 1\n",
        "        \n",
        "            if new_commit_count != 0 :\n",
        "                print('New Commits : '+str(new_commit_count))\n",
        "                \n",
        "            if ariang_fork.forks_count !=0 :\n",
        "                print('\\nChecking Grand Forks...')\n",
        "                fork_statics(ariang_fork.owner,ariang_fork.name,username,password,exclusions)\n",
        "        \n",
        "        except :\n",
        "            print('\\nException for  Fork '+str(i)+' : '+ariang_fork.full_name)\n",
        "        \n",
        "        i=i+1\n",
        "        "
      ],
      "execution_count": 0,
      "outputs": []
    },
    {
      "cell_type": "code",
      "metadata": {
        "id": "puo2YmiyKCdr",
        "colab_type": "code",
        "outputId": "b90c04a0-24a5-45ed-c597-5408314b1f20",
        "colab": {
          "base_uri": "https://localhost:8080/",
          "height": 544
        }
      },
      "source": [
        "fork_statics(owner='Aniruddha-Tapas',repository='Predicting-Diseases-From-Symptoms',username='baneeishaque', password='aA!9895204814',exclusions=[])"
      ],
      "execution_count": 0,
      "outputs": [
        {
          "output_type": "stream",
          "text": [
            "Repository : Aniruddha-Tapas/Predicting-Diseases-From-Symptoms\n",
            "No. of Forks of Aniruddha-Tapas/Predicting-Diseases-From-Symptoms : 49\n",
            "\n",
            "Fork 33 : MRummanHasan/Predicting-Diseases-From-Symptoms\n",
            "URL : https://github.com/MRummanHasan/Predicting-Diseases-From-Symptoms\n",
            "New Commit - Update README.md\n",
            "\n",
            "Required library names updated\n",
            "New Commit - Merge pull request #3 from MRummanHasan/MRummanHasan-patch-3\n",
            "\n",
            "Update apitest.py. after project testing\n",
            "New Commit - Update apitest.py\n",
            "New Commit - Merge pull request #2 from MRummanHasan/MRummanHasan-patch-2\n",
            "\n",
            "successful API testing\n",
            "New Commit - successful API testing\n",
            "\n",
            "symptom user-input from geogram.php file. Which will send input-value to apitest.py to predict disease on it.\n",
            "New Commit - Update disPred.py\n",
            "New Commit - prediction for more then one symptom\n",
            "New Commit - Merge pull request #1 from MRummanHasan/MRummanHasan-patch-1-1\n",
            "\n",
            "new file, with python 3 implementation, symptom predcit with mulitple…\n",
            "New Commit - new file, with python 3 implementation, symptom predcit with mulitple symptoms\n",
            "New Commits : 9\n",
            "\n",
            "Checking Grand Forks...\n",
            "Repository : MRummanHasan/Predicting-Diseases-From-Symptoms\n",
            "No. of Forks of MRummanHasan/Predicting-Diseases-From-Symptoms : 1\n",
            "\n",
            "Exception for  Fork 47 : tectronics/Predicting-Diseases-From-Symptoms\n"
          ],
          "name": "stdout"
        }
      ]
    }
  ]
}